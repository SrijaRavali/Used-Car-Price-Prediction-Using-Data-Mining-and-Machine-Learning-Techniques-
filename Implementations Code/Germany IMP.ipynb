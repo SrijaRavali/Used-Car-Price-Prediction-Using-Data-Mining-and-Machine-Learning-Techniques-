{
 "cells": [
  {
   "cell_type": "code",
   "execution_count": 1,
   "metadata": {},
   "outputs": [],
   "source": [
    "import numpy as np\n",
    "import pandas as pd\n",
    "import seaborn as sns\n",
    "import matplotlib.pyplot as plt\n",
    "import os\n",
    "import re\n",
    "import pandas.testing as tm\n",
    "import warnings\n",
    "warnings.filterwarnings('ignore')\n",
    "plt.rcParams['figure.figsize'] = (10, 10)\n",
    "plt.style.use('seaborn')"
   ]
  },
  {
   "cell_type": "code",
   "execution_count": 2,
   "metadata": {},
   "outputs": [],
   "source": [
    "df = pd.read_csv(r'D:\\Masters\\DMML\\Project\\Datasets\\Germany cleaned.csv',encoding=\"ISO-8859-1\")"
   ]
  },
  {
   "cell_type": "code",
   "execution_count": 3,
   "metadata": {},
   "outputs": [
    {
     "data": {
      "text/html": [
       "<div>\n",
       "<style scoped>\n",
       "    .dataframe tbody tr th:only-of-type {\n",
       "        vertical-align: middle;\n",
       "    }\n",
       "\n",
       "    .dataframe tbody tr th {\n",
       "        vertical-align: top;\n",
       "    }\n",
       "\n",
       "    .dataframe thead th {\n",
       "        text-align: right;\n",
       "    }\n",
       "</style>\n",
       "<table border=\"1\" class=\"dataframe\">\n",
       "  <thead>\n",
       "    <tr style=\"text-align: right;\">\n",
       "      <th></th>\n",
       "      <th>name</th>\n",
       "      <th>price</th>\n",
       "      <th>abtest</th>\n",
       "      <th>vehicleType</th>\n",
       "      <th>yearOfRegistration</th>\n",
       "      <th>gearbox</th>\n",
       "      <th>powerPS</th>\n",
       "      <th>model</th>\n",
       "      <th>kilometer</th>\n",
       "      <th>monthOfRegistration</th>\n",
       "      <th>fuelType</th>\n",
       "      <th>brand</th>\n",
       "      <th>notRepairedDamage</th>\n",
       "    </tr>\n",
       "  </thead>\n",
       "  <tbody>\n",
       "    <tr>\n",
       "      <th>0</th>\n",
       "      <td>A5_Sportback_2.7_Tdi</td>\n",
       "      <td>18300</td>\n",
       "      <td>test</td>\n",
       "      <td>coupe</td>\n",
       "      <td>2011</td>\n",
       "      <td>manual</td>\n",
       "      <td>190</td>\n",
       "      <td>golf</td>\n",
       "      <td>125000</td>\n",
       "      <td>5</td>\n",
       "      <td>diesel</td>\n",
       "      <td>audi</td>\n",
       "      <td>yes</td>\n",
       "    </tr>\n",
       "    <tr>\n",
       "      <th>1</th>\n",
       "      <td>Jeep_Grand_Cherokee_\"Overland\"</td>\n",
       "      <td>9800</td>\n",
       "      <td>test</td>\n",
       "      <td>suv</td>\n",
       "      <td>2004</td>\n",
       "      <td>automatic</td>\n",
       "      <td>163</td>\n",
       "      <td>grand</td>\n",
       "      <td>125000</td>\n",
       "      <td>8</td>\n",
       "      <td>diesel</td>\n",
       "      <td>jeep</td>\n",
       "      <td>no</td>\n",
       "    </tr>\n",
       "    <tr>\n",
       "      <th>2</th>\n",
       "      <td>GOLF_4_1_4__3TÃÂRER</td>\n",
       "      <td>1500</td>\n",
       "      <td>test</td>\n",
       "      <td>smallcar</td>\n",
       "      <td>2001</td>\n",
       "      <td>manual</td>\n",
       "      <td>75</td>\n",
       "      <td>golf</td>\n",
       "      <td>150000</td>\n",
       "      <td>6</td>\n",
       "      <td>petrol</td>\n",
       "      <td>volkswagen</td>\n",
       "      <td>no</td>\n",
       "    </tr>\n",
       "    <tr>\n",
       "      <th>3</th>\n",
       "      <td>Skoda_Fabia_1.4_TDI_PD_Classic</td>\n",
       "      <td>3600</td>\n",
       "      <td>test</td>\n",
       "      <td>smallcar</td>\n",
       "      <td>2008</td>\n",
       "      <td>manual</td>\n",
       "      <td>69</td>\n",
       "      <td>fabia</td>\n",
       "      <td>90000</td>\n",
       "      <td>7</td>\n",
       "      <td>diesel</td>\n",
       "      <td>skoda</td>\n",
       "      <td>no</td>\n",
       "    </tr>\n",
       "    <tr>\n",
       "      <th>4</th>\n",
       "      <td>BMW_316i___e36_Limousine___Bastlerfahrzeug__Ex...</td>\n",
       "      <td>650</td>\n",
       "      <td>test</td>\n",
       "      <td>limousine</td>\n",
       "      <td>1995</td>\n",
       "      <td>manual</td>\n",
       "      <td>102</td>\n",
       "      <td>3er</td>\n",
       "      <td>150000</td>\n",
       "      <td>10</td>\n",
       "      <td>petrol</td>\n",
       "      <td>bmw</td>\n",
       "      <td>yes</td>\n",
       "    </tr>\n",
       "    <tr>\n",
       "      <th>...</th>\n",
       "      <td>...</td>\n",
       "      <td>...</td>\n",
       "      <td>...</td>\n",
       "      <td>...</td>\n",
       "      <td>...</td>\n",
       "      <td>...</td>\n",
       "      <td>...</td>\n",
       "      <td>...</td>\n",
       "      <td>...</td>\n",
       "      <td>...</td>\n",
       "      <td>...</td>\n",
       "      <td>...</td>\n",
       "      <td>...</td>\n",
       "    </tr>\n",
       "    <tr>\n",
       "      <th>311961</th>\n",
       "      <td>turbo_defekt</td>\n",
       "      <td>3200</td>\n",
       "      <td>control</td>\n",
       "      <td>limousine</td>\n",
       "      <td>2004</td>\n",
       "      <td>manual</td>\n",
       "      <td>225</td>\n",
       "      <td>leon</td>\n",
       "      <td>150000</td>\n",
       "      <td>5</td>\n",
       "      <td>petrol</td>\n",
       "      <td>seat</td>\n",
       "      <td>yes</td>\n",
       "    </tr>\n",
       "    <tr>\n",
       "      <th>311962</th>\n",
       "      <td>Smart_smart_leistungssteigerung_100ps</td>\n",
       "      <td>1199</td>\n",
       "      <td>test</td>\n",
       "      <td>convertible</td>\n",
       "      <td>2000</td>\n",
       "      <td>automatic</td>\n",
       "      <td>101</td>\n",
       "      <td>fortwo</td>\n",
       "      <td>125000</td>\n",
       "      <td>3</td>\n",
       "      <td>petrol</td>\n",
       "      <td>smart</td>\n",
       "      <td>no</td>\n",
       "    </tr>\n",
       "    <tr>\n",
       "      <th>311963</th>\n",
       "      <td>Volkswagen_Multivan_T4_TDI_7DC_UY2</td>\n",
       "      <td>9200</td>\n",
       "      <td>test</td>\n",
       "      <td>bus</td>\n",
       "      <td>1996</td>\n",
       "      <td>manual</td>\n",
       "      <td>102</td>\n",
       "      <td>transporter</td>\n",
       "      <td>150000</td>\n",
       "      <td>3</td>\n",
       "      <td>diesel</td>\n",
       "      <td>volkswagen</td>\n",
       "      <td>no</td>\n",
       "    </tr>\n",
       "    <tr>\n",
       "      <th>311964</th>\n",
       "      <td>VW_Golf_Kombi_1_9l_TDI</td>\n",
       "      <td>3400</td>\n",
       "      <td>test</td>\n",
       "      <td>stationwagon</td>\n",
       "      <td>2002</td>\n",
       "      <td>manual</td>\n",
       "      <td>100</td>\n",
       "      <td>golf</td>\n",
       "      <td>150000</td>\n",
       "      <td>6</td>\n",
       "      <td>diesel</td>\n",
       "      <td>volkswagen</td>\n",
       "      <td>no</td>\n",
       "    </tr>\n",
       "    <tr>\n",
       "      <th>311965</th>\n",
       "      <td>BMW_M135i_vollausgestattet_NP_52.720____Euro</td>\n",
       "      <td>28990</td>\n",
       "      <td>control</td>\n",
       "      <td>limousine</td>\n",
       "      <td>2013</td>\n",
       "      <td>manual</td>\n",
       "      <td>320</td>\n",
       "      <td>m_reihe</td>\n",
       "      <td>50000</td>\n",
       "      <td>8</td>\n",
       "      <td>petrol</td>\n",
       "      <td>bmw</td>\n",
       "      <td>no</td>\n",
       "    </tr>\n",
       "  </tbody>\n",
       "</table>\n",
       "<p>311966 rows × 13 columns</p>\n",
       "</div>"
      ],
      "text/plain": [
       "                                                     name  price   abtest  \\\n",
       "0                                    A5_Sportback_2.7_Tdi  18300     test   \n",
       "1                          Jeep_Grand_Cherokee_\"Overland\"   9800     test   \n",
       "2                                   GOLF_4_1_4__3TÃÂRER   1500     test   \n",
       "3                          Skoda_Fabia_1.4_TDI_PD_Classic   3600     test   \n",
       "4       BMW_316i___e36_Limousine___Bastlerfahrzeug__Ex...    650     test   \n",
       "...                                                   ...    ...      ...   \n",
       "311961                                       turbo_defekt   3200  control   \n",
       "311962              Smart_smart_leistungssteigerung_100ps   1199     test   \n",
       "311963                 Volkswagen_Multivan_T4_TDI_7DC_UY2   9200     test   \n",
       "311964                             VW_Golf_Kombi_1_9l_TDI   3400     test   \n",
       "311965       BMW_M135i_vollausgestattet_NP_52.720____Euro  28990  control   \n",
       "\n",
       "         vehicleType  yearOfRegistration    gearbox  powerPS        model  \\\n",
       "0              coupe                2011     manual      190         golf   \n",
       "1                suv                2004  automatic      163        grand   \n",
       "2           smallcar                2001     manual       75         golf   \n",
       "3           smallcar                2008     manual       69        fabia   \n",
       "4          limousine                1995     manual      102          3er   \n",
       "...              ...                 ...        ...      ...          ...   \n",
       "311961     limousine                2004     manual      225         leon   \n",
       "311962   convertible                2000  automatic      101       fortwo   \n",
       "311963           bus                1996     manual      102  transporter   \n",
       "311964  stationwagon                2002     manual      100         golf   \n",
       "311965     limousine                2013     manual      320      m_reihe   \n",
       "\n",
       "        kilometer  monthOfRegistration fuelType       brand notRepairedDamage  \n",
       "0          125000                    5   diesel        audi               yes  \n",
       "1          125000                    8   diesel        jeep                no  \n",
       "2          150000                    6   petrol  volkswagen                no  \n",
       "3           90000                    7   diesel       skoda                no  \n",
       "4          150000                   10   petrol         bmw               yes  \n",
       "...           ...                  ...      ...         ...               ...  \n",
       "311961     150000                    5   petrol        seat               yes  \n",
       "311962     125000                    3   petrol       smart                no  \n",
       "311963     150000                    3   diesel  volkswagen                no  \n",
       "311964     150000                    6   diesel  volkswagen                no  \n",
       "311965      50000                    8   petrol         bmw                no  \n",
       "\n",
       "[311966 rows x 13 columns]"
      ]
     },
     "execution_count": 3,
     "metadata": {},
     "output_type": "execute_result"
    }
   ],
   "source": [
    "df"
   ]
  },
  {
   "cell_type": "code",
   "execution_count": 4,
   "metadata": {},
   "outputs": [
    {
     "data": {
      "text/html": [
       "<div>\n",
       "<style scoped>\n",
       "    .dataframe tbody tr th:only-of-type {\n",
       "        vertical-align: middle;\n",
       "    }\n",
       "\n",
       "    .dataframe tbody tr th {\n",
       "        vertical-align: top;\n",
       "    }\n",
       "\n",
       "    .dataframe thead th {\n",
       "        text-align: right;\n",
       "    }\n",
       "</style>\n",
       "<table border=\"1\" class=\"dataframe\">\n",
       "  <thead>\n",
       "    <tr style=\"text-align: right;\">\n",
       "      <th></th>\n",
       "      <th>price</th>\n",
       "      <th>yearOfRegistration</th>\n",
       "      <th>powerPS</th>\n",
       "      <th>kilometer</th>\n",
       "      <th>monthOfRegistration</th>\n",
       "    </tr>\n",
       "  </thead>\n",
       "  <tbody>\n",
       "    <tr>\n",
       "      <th>count</th>\n",
       "      <td>311966.000000</td>\n",
       "      <td>311966.000000</td>\n",
       "      <td>311966.000000</td>\n",
       "      <td>311966.000000</td>\n",
       "      <td>311966.000000</td>\n",
       "    </tr>\n",
       "    <tr>\n",
       "      <th>mean</th>\n",
       "      <td>6280.683097</td>\n",
       "      <td>2003.602143</td>\n",
       "      <td>127.681459</td>\n",
       "      <td>125367.299642</td>\n",
       "      <td>6.191341</td>\n",
       "    </tr>\n",
       "    <tr>\n",
       "      <th>std</th>\n",
       "      <td>7759.600587</td>\n",
       "      <td>7.028568</td>\n",
       "      <td>64.878345</td>\n",
       "      <td>39228.603464</td>\n",
       "      <td>3.341287</td>\n",
       "    </tr>\n",
       "    <tr>\n",
       "      <th>min</th>\n",
       "      <td>300.000000</td>\n",
       "      <td>1910.000000</td>\n",
       "      <td>20.000000</td>\n",
       "      <td>5000.000000</td>\n",
       "      <td>1.000000</td>\n",
       "    </tr>\n",
       "    <tr>\n",
       "      <th>25%</th>\n",
       "      <td>1500.000000</td>\n",
       "      <td>1999.000000</td>\n",
       "      <td>82.000000</td>\n",
       "      <td>100000.000000</td>\n",
       "      <td>3.000000</td>\n",
       "    </tr>\n",
       "    <tr>\n",
       "      <th>50%</th>\n",
       "      <td>3500.000000</td>\n",
       "      <td>2004.000000</td>\n",
       "      <td>116.000000</td>\n",
       "      <td>150000.000000</td>\n",
       "      <td>6.000000</td>\n",
       "    </tr>\n",
       "    <tr>\n",
       "      <th>75%</th>\n",
       "      <td>8000.000000</td>\n",
       "      <td>2008.000000</td>\n",
       "      <td>150.000000</td>\n",
       "      <td>150000.000000</td>\n",
       "      <td>9.000000</td>\n",
       "    </tr>\n",
       "    <tr>\n",
       "      <th>max</th>\n",
       "      <td>100000.000000</td>\n",
       "      <td>2017.000000</td>\n",
       "      <td>1500.000000</td>\n",
       "      <td>150000.000000</td>\n",
       "      <td>12.000000</td>\n",
       "    </tr>\n",
       "  </tbody>\n",
       "</table>\n",
       "</div>"
      ],
      "text/plain": [
       "               price  yearOfRegistration        powerPS      kilometer  \\\n",
       "count  311966.000000       311966.000000  311966.000000  311966.000000   \n",
       "mean     6280.683097         2003.602143     127.681459  125367.299642   \n",
       "std      7759.600587            7.028568      64.878345   39228.603464   \n",
       "min       300.000000         1910.000000      20.000000    5000.000000   \n",
       "25%      1500.000000         1999.000000      82.000000  100000.000000   \n",
       "50%      3500.000000         2004.000000     116.000000  150000.000000   \n",
       "75%      8000.000000         2008.000000     150.000000  150000.000000   \n",
       "max    100000.000000         2017.000000    1500.000000  150000.000000   \n",
       "\n",
       "       monthOfRegistration  \n",
       "count        311966.000000  \n",
       "mean              6.191341  \n",
       "std               3.341287  \n",
       "min               1.000000  \n",
       "25%               3.000000  \n",
       "50%               6.000000  \n",
       "75%               9.000000  \n",
       "max              12.000000  "
      ]
     },
     "execution_count": 4,
     "metadata": {},
     "output_type": "execute_result"
    }
   ],
   "source": [
    "df.describe()"
   ]
  },
  {
   "cell_type": "code",
   "execution_count": 5,
   "metadata": {},
   "outputs": [
    {
     "data": {
      "text/plain": [
       "(311966, 13)"
      ]
     },
     "execution_count": 5,
     "metadata": {},
     "output_type": "execute_result"
    }
   ],
   "source": [
    "df.shape"
   ]
  },
  {
   "cell_type": "code",
   "execution_count": 6,
   "metadata": {},
   "outputs": [],
   "source": [
    "df.loc[df['price']<=2000,'price class']='low'\n",
    "df.loc[df['price']>=8000,'price class']='high'\n",
    "df.loc[(df['price']>2000) & (df['price']<8000),'price class']='mid'"
   ]
  },
  {
   "cell_type": "code",
   "execution_count": 7,
   "metadata": {},
   "outputs": [
    {
     "data": {
      "text/plain": [
       "mid     126892\n",
       "low     106754\n",
       "high     78320\n",
       "Name: price class, dtype: int64"
      ]
     },
     "execution_count": 7,
     "metadata": {},
     "output_type": "execute_result"
    }
   ],
   "source": [
    "df['price class'].value_counts()"
   ]
  },
  {
   "cell_type": "code",
   "execution_count": 8,
   "metadata": {},
   "outputs": [
    {
     "data": {
      "text/plain": [
       "Index(['name', 'price', 'abtest', 'vehicleType', 'yearOfRegistration',\n",
       "       'gearbox', 'powerPS', 'model', 'kilometer', 'monthOfRegistration',\n",
       "       'fuelType', 'brand', 'notRepairedDamage', 'price class'],\n",
       "      dtype='object')"
      ]
     },
     "execution_count": 8,
     "metadata": {},
     "output_type": "execute_result"
    }
   ],
   "source": [
    "df.columns"
   ]
  },
  {
   "cell_type": "code",
   "execution_count": 9,
   "metadata": {},
   "outputs": [],
   "source": [
    "df1=df.groupby('price class').sample(50000)"
   ]
  },
  {
   "cell_type": "code",
   "execution_count": 10,
   "metadata": {},
   "outputs": [
    {
     "data": {
      "text/plain": [
       "high    50000\n",
       "low     50000\n",
       "mid     50000\n",
       "Name: price class, dtype: int64"
      ]
     },
     "execution_count": 10,
     "metadata": {},
     "output_type": "execute_result"
    }
   ],
   "source": [
    "df1['price class'].value_counts()"
   ]
  },
  {
   "cell_type": "code",
   "execution_count": 11,
   "metadata": {},
   "outputs": [],
   "source": [
    "df2 = df1.copy()"
   ]
  },
  {
   "cell_type": "code",
   "execution_count": 12,
   "metadata": {},
   "outputs": [],
   "source": [
    "X=df2.iloc[:,:-1]\n",
    "Y=df2['price class']"
   ]
  },
  {
   "cell_type": "code",
   "execution_count": 13,
   "metadata": {},
   "outputs": [
    {
     "data": {
      "text/html": [
       "<div>\n",
       "<style scoped>\n",
       "    .dataframe tbody tr th:only-of-type {\n",
       "        vertical-align: middle;\n",
       "    }\n",
       "\n",
       "    .dataframe tbody tr th {\n",
       "        vertical-align: top;\n",
       "    }\n",
       "\n",
       "    .dataframe thead th {\n",
       "        text-align: right;\n",
       "    }\n",
       "</style>\n",
       "<table border=\"1\" class=\"dataframe\">\n",
       "  <thead>\n",
       "    <tr style=\"text-align: right;\">\n",
       "      <th></th>\n",
       "      <th>name</th>\n",
       "      <th>price</th>\n",
       "      <th>abtest</th>\n",
       "      <th>vehicleType</th>\n",
       "      <th>yearOfRegistration</th>\n",
       "      <th>gearbox</th>\n",
       "      <th>powerPS</th>\n",
       "      <th>model</th>\n",
       "      <th>kilometer</th>\n",
       "      <th>monthOfRegistration</th>\n",
       "      <th>fuelType</th>\n",
       "      <th>brand</th>\n",
       "      <th>notRepairedDamage</th>\n",
       "    </tr>\n",
       "  </thead>\n",
       "  <tbody>\n",
       "    <tr>\n",
       "      <th>113642</th>\n",
       "      <td>Auto_zu_verkaufen</td>\n",
       "      <td>12300</td>\n",
       "      <td>control</td>\n",
       "      <td>limousine</td>\n",
       "      <td>2008</td>\n",
       "      <td>manual</td>\n",
       "      <td>144</td>\n",
       "      <td>a4</td>\n",
       "      <td>70000</td>\n",
       "      <td>3</td>\n",
       "      <td>petrol</td>\n",
       "      <td>audi</td>\n",
       "      <td>no</td>\n",
       "    </tr>\n",
       "    <tr>\n",
       "      <th>129941</th>\n",
       "      <td>BMW_745d</td>\n",
       "      <td>14999</td>\n",
       "      <td>control</td>\n",
       "      <td>limousine</td>\n",
       "      <td>2008</td>\n",
       "      <td>automatic</td>\n",
       "      <td>329</td>\n",
       "      <td>7er</td>\n",
       "      <td>150000</td>\n",
       "      <td>2</td>\n",
       "      <td>diesel</td>\n",
       "      <td>bmw</td>\n",
       "      <td>no</td>\n",
       "    </tr>\n",
       "    <tr>\n",
       "      <th>306227</th>\n",
       "      <td>Opel_Insignia_2.0_CDTI_Sports_Tourer_Sport</td>\n",
       "      <td>11500</td>\n",
       "      <td>test</td>\n",
       "      <td>stationwagon</td>\n",
       "      <td>2010</td>\n",
       "      <td>automatic</td>\n",
       "      <td>160</td>\n",
       "      <td>insignia</td>\n",
       "      <td>150000</td>\n",
       "      <td>5</td>\n",
       "      <td>diesel</td>\n",
       "      <td>opel</td>\n",
       "      <td>no</td>\n",
       "    </tr>\n",
       "    <tr>\n",
       "      <th>203669</th>\n",
       "      <td>Top_Cabrio_von_bmw_fuer_nur_9599Ã¢ÂÂ¬_vb</td>\n",
       "      <td>9599</td>\n",
       "      <td>control</td>\n",
       "      <td>convertible</td>\n",
       "      <td>2003</td>\n",
       "      <td>automatic</td>\n",
       "      <td>192</td>\n",
       "      <td>3er</td>\n",
       "      <td>100000</td>\n",
       "      <td>6</td>\n",
       "      <td>petrol</td>\n",
       "      <td>bmw</td>\n",
       "      <td>no</td>\n",
       "    </tr>\n",
       "    <tr>\n",
       "      <th>141771</th>\n",
       "      <td>BMW_118i_Cabrio_Teilleder_Klimatronik_PDC_116t...</td>\n",
       "      <td>9850</td>\n",
       "      <td>control</td>\n",
       "      <td>convertible</td>\n",
       "      <td>2008</td>\n",
       "      <td>manual</td>\n",
       "      <td>143</td>\n",
       "      <td>1er</td>\n",
       "      <td>125000</td>\n",
       "      <td>8</td>\n",
       "      <td>petrol</td>\n",
       "      <td>bmw</td>\n",
       "      <td>no</td>\n",
       "    </tr>\n",
       "  </tbody>\n",
       "</table>\n",
       "</div>"
      ],
      "text/plain": [
       "                                                     name  price   abtest  \\\n",
       "113642                                  Auto_zu_verkaufen  12300  control   \n",
       "129941                                           BMW_745d  14999  control   \n",
       "306227         Opel_Insignia_2.0_CDTI_Sports_Tourer_Sport  11500     test   \n",
       "203669          Top_Cabrio_von_bmw_fuer_nur_9599Ã¢ÂÂ¬_vb   9599  control   \n",
       "141771  BMW_118i_Cabrio_Teilleder_Klimatronik_PDC_116t...   9850  control   \n",
       "\n",
       "         vehicleType  yearOfRegistration    gearbox  powerPS     model  \\\n",
       "113642     limousine                2008     manual      144        a4   \n",
       "129941     limousine                2008  automatic      329       7er   \n",
       "306227  stationwagon                2010  automatic      160  insignia   \n",
       "203669   convertible                2003  automatic      192       3er   \n",
       "141771   convertible                2008     manual      143       1er   \n",
       "\n",
       "        kilometer  monthOfRegistration fuelType brand notRepairedDamage  \n",
       "113642      70000                    3   petrol  audi                no  \n",
       "129941     150000                    2   diesel   bmw                no  \n",
       "306227     150000                    5   diesel  opel                no  \n",
       "203669     100000                    6   petrol   bmw                no  \n",
       "141771     125000                    8   petrol   bmw                no  "
      ]
     },
     "execution_count": 13,
     "metadata": {},
     "output_type": "execute_result"
    }
   ],
   "source": [
    "X.head()"
   ]
  },
  {
   "cell_type": "code",
   "execution_count": 14,
   "metadata": {},
   "outputs": [
    {
     "data": {
      "text/plain": [
       "113642    high\n",
       "129941    high\n",
       "306227    high\n",
       "203669    high\n",
       "141771    high\n",
       "Name: price class, dtype: object"
      ]
     },
     "execution_count": 14,
     "metadata": {},
     "output_type": "execute_result"
    }
   ],
   "source": [
    "Y.head()"
   ]
  },
  {
   "cell_type": "code",
   "execution_count": 15,
   "metadata": {},
   "outputs": [],
   "source": [
    "X.drop(['name','price'],axis=1,inplace=True)"
   ]
  },
  {
   "cell_type": "code",
   "execution_count": 16,
   "metadata": {},
   "outputs": [
    {
     "data": {
      "text/plain": [
       "Index(['abtest', 'vehicleType', 'yearOfRegistration', 'gearbox', 'powerPS',\n",
       "       'model', 'kilometer', 'monthOfRegistration', 'fuelType', 'brand',\n",
       "       'notRepairedDamage'],\n",
       "      dtype='object')"
      ]
     },
     "execution_count": 16,
     "metadata": {},
     "output_type": "execute_result"
    }
   ],
   "source": [
    "X.columns"
   ]
  },
  {
   "cell_type": "code",
   "execution_count": 17,
   "metadata": {},
   "outputs": [],
   "source": [
    "X_encoded=pd.get_dummies(X)"
   ]
  },
  {
   "cell_type": "code",
   "execution_count": 18,
   "metadata": {},
   "outputs": [
    {
     "data": {
      "text/html": [
       "<div>\n",
       "<style scoped>\n",
       "    .dataframe tbody tr th:only-of-type {\n",
       "        vertical-align: middle;\n",
       "    }\n",
       "\n",
       "    .dataframe tbody tr th {\n",
       "        vertical-align: top;\n",
       "    }\n",
       "\n",
       "    .dataframe thead th {\n",
       "        text-align: right;\n",
       "    }\n",
       "</style>\n",
       "<table border=\"1\" class=\"dataframe\">\n",
       "  <thead>\n",
       "    <tr style=\"text-align: right;\">\n",
       "      <th></th>\n",
       "      <th>yearOfRegistration</th>\n",
       "      <th>powerPS</th>\n",
       "      <th>kilometer</th>\n",
       "      <th>monthOfRegistration</th>\n",
       "      <th>abtest_control</th>\n",
       "      <th>abtest_test</th>\n",
       "      <th>vehicleType_bus</th>\n",
       "      <th>vehicleType_convertible</th>\n",
       "      <th>vehicleType_coupe</th>\n",
       "      <th>vehicleType_limousine</th>\n",
       "      <th>...</th>\n",
       "      <th>brand_smart</th>\n",
       "      <th>brand_sonstige_autos</th>\n",
       "      <th>brand_subaru</th>\n",
       "      <th>brand_suzuki</th>\n",
       "      <th>brand_toyota</th>\n",
       "      <th>brand_trabant</th>\n",
       "      <th>brand_volkswagen</th>\n",
       "      <th>brand_volvo</th>\n",
       "      <th>notRepairedDamage_no</th>\n",
       "      <th>notRepairedDamage_yes</th>\n",
       "    </tr>\n",
       "  </thead>\n",
       "  <tbody>\n",
       "    <tr>\n",
       "      <th>113642</th>\n",
       "      <td>2008</td>\n",
       "      <td>144</td>\n",
       "      <td>70000</td>\n",
       "      <td>3</td>\n",
       "      <td>1</td>\n",
       "      <td>0</td>\n",
       "      <td>0</td>\n",
       "      <td>0</td>\n",
       "      <td>0</td>\n",
       "      <td>1</td>\n",
       "      <td>...</td>\n",
       "      <td>0</td>\n",
       "      <td>0</td>\n",
       "      <td>0</td>\n",
       "      <td>0</td>\n",
       "      <td>0</td>\n",
       "      <td>0</td>\n",
       "      <td>0</td>\n",
       "      <td>0</td>\n",
       "      <td>1</td>\n",
       "      <td>0</td>\n",
       "    </tr>\n",
       "    <tr>\n",
       "      <th>129941</th>\n",
       "      <td>2008</td>\n",
       "      <td>329</td>\n",
       "      <td>150000</td>\n",
       "      <td>2</td>\n",
       "      <td>1</td>\n",
       "      <td>0</td>\n",
       "      <td>0</td>\n",
       "      <td>0</td>\n",
       "      <td>0</td>\n",
       "      <td>1</td>\n",
       "      <td>...</td>\n",
       "      <td>0</td>\n",
       "      <td>0</td>\n",
       "      <td>0</td>\n",
       "      <td>0</td>\n",
       "      <td>0</td>\n",
       "      <td>0</td>\n",
       "      <td>0</td>\n",
       "      <td>0</td>\n",
       "      <td>1</td>\n",
       "      <td>0</td>\n",
       "    </tr>\n",
       "    <tr>\n",
       "      <th>306227</th>\n",
       "      <td>2010</td>\n",
       "      <td>160</td>\n",
       "      <td>150000</td>\n",
       "      <td>5</td>\n",
       "      <td>0</td>\n",
       "      <td>1</td>\n",
       "      <td>0</td>\n",
       "      <td>0</td>\n",
       "      <td>0</td>\n",
       "      <td>0</td>\n",
       "      <td>...</td>\n",
       "      <td>0</td>\n",
       "      <td>0</td>\n",
       "      <td>0</td>\n",
       "      <td>0</td>\n",
       "      <td>0</td>\n",
       "      <td>0</td>\n",
       "      <td>0</td>\n",
       "      <td>0</td>\n",
       "      <td>1</td>\n",
       "      <td>0</td>\n",
       "    </tr>\n",
       "    <tr>\n",
       "      <th>203669</th>\n",
       "      <td>2003</td>\n",
       "      <td>192</td>\n",
       "      <td>100000</td>\n",
       "      <td>6</td>\n",
       "      <td>1</td>\n",
       "      <td>0</td>\n",
       "      <td>0</td>\n",
       "      <td>1</td>\n",
       "      <td>0</td>\n",
       "      <td>0</td>\n",
       "      <td>...</td>\n",
       "      <td>0</td>\n",
       "      <td>0</td>\n",
       "      <td>0</td>\n",
       "      <td>0</td>\n",
       "      <td>0</td>\n",
       "      <td>0</td>\n",
       "      <td>0</td>\n",
       "      <td>0</td>\n",
       "      <td>1</td>\n",
       "      <td>0</td>\n",
       "    </tr>\n",
       "    <tr>\n",
       "      <th>141771</th>\n",
       "      <td>2008</td>\n",
       "      <td>143</td>\n",
       "      <td>125000</td>\n",
       "      <td>8</td>\n",
       "      <td>1</td>\n",
       "      <td>0</td>\n",
       "      <td>0</td>\n",
       "      <td>1</td>\n",
       "      <td>0</td>\n",
       "      <td>0</td>\n",
       "      <td>...</td>\n",
       "      <td>0</td>\n",
       "      <td>0</td>\n",
       "      <td>0</td>\n",
       "      <td>0</td>\n",
       "      <td>0</td>\n",
       "      <td>0</td>\n",
       "      <td>0</td>\n",
       "      <td>0</td>\n",
       "      <td>1</td>\n",
       "      <td>0</td>\n",
       "    </tr>\n",
       "  </tbody>\n",
       "</table>\n",
       "<p>5 rows × 314 columns</p>\n",
       "</div>"
      ],
      "text/plain": [
       "        yearOfRegistration  powerPS  kilometer  monthOfRegistration  \\\n",
       "113642                2008      144      70000                    3   \n",
       "129941                2008      329     150000                    2   \n",
       "306227                2010      160     150000                    5   \n",
       "203669                2003      192     100000                    6   \n",
       "141771                2008      143     125000                    8   \n",
       "\n",
       "        abtest_control  abtest_test  vehicleType_bus  vehicleType_convertible  \\\n",
       "113642               1            0                0                        0   \n",
       "129941               1            0                0                        0   \n",
       "306227               0            1                0                        0   \n",
       "203669               1            0                0                        1   \n",
       "141771               1            0                0                        1   \n",
       "\n",
       "        vehicleType_coupe  vehicleType_limousine  ...  brand_smart  \\\n",
       "113642                  0                      1  ...            0   \n",
       "129941                  0                      1  ...            0   \n",
       "306227                  0                      0  ...            0   \n",
       "203669                  0                      0  ...            0   \n",
       "141771                  0                      0  ...            0   \n",
       "\n",
       "        brand_sonstige_autos  brand_subaru  brand_suzuki  brand_toyota  \\\n",
       "113642                     0             0             0             0   \n",
       "129941                     0             0             0             0   \n",
       "306227                     0             0             0             0   \n",
       "203669                     0             0             0             0   \n",
       "141771                     0             0             0             0   \n",
       "\n",
       "        brand_trabant  brand_volkswagen  brand_volvo  notRepairedDamage_no  \\\n",
       "113642              0                 0            0                     1   \n",
       "129941              0                 0            0                     1   \n",
       "306227              0                 0            0                     1   \n",
       "203669              0                 0            0                     1   \n",
       "141771              0                 0            0                     1   \n",
       "\n",
       "        notRepairedDamage_yes  \n",
       "113642                      0  \n",
       "129941                      0  \n",
       "306227                      0  \n",
       "203669                      0  \n",
       "141771                      0  \n",
       "\n",
       "[5 rows x 314 columns]"
      ]
     },
     "execution_count": 18,
     "metadata": {},
     "output_type": "execute_result"
    }
   ],
   "source": [
    "X_encoded.head()"
   ]
  },
  {
   "cell_type": "code",
   "execution_count": 19,
   "metadata": {},
   "outputs": [],
   "source": [
    "from sklearn.preprocessing import LabelEncoder"
   ]
  },
  {
   "cell_type": "code",
   "execution_count": 20,
   "metadata": {},
   "outputs": [],
   "source": [
    "label_encoder=LabelEncoder()"
   ]
  },
  {
   "cell_type": "code",
   "execution_count": 21,
   "metadata": {},
   "outputs": [],
   "source": [
    "Y_encoded=label_encoder.fit_transform(Y)"
   ]
  },
  {
   "cell_type": "code",
   "execution_count": 22,
   "metadata": {},
   "outputs": [
    {
     "data": {
      "text/plain": [
       "array([0, 0, 0, ..., 2, 2, 2])"
      ]
     },
     "execution_count": 22,
     "metadata": {},
     "output_type": "execute_result"
    }
   ],
   "source": [
    "Y_encoded"
   ]
  },
  {
   "cell_type": "markdown",
   "metadata": {},
   "source": [
    "# Splitting dataset"
   ]
  },
  {
   "cell_type": "code",
   "execution_count": 23,
   "metadata": {},
   "outputs": [
    {
     "name": "stdout",
     "output_type": "stream",
     "text": [
      "Shape of training feature: (120000, 314)\n",
      "Shape of testing feature: (30000, 314)\n",
      "Shape of training label: (120000,)\n",
      "Shape of training label: (30000,)\n"
     ]
    }
   ],
   "source": [
    "# Set Training and Testing Data\n",
    "from sklearn.model_selection import train_test_split\n",
    "X_train, X_test, y_train, y_test = train_test_split(X_encoded , Y_encoded, \n",
    "                                                    shuffle = True, \n",
    "                                                    test_size=0.2, \n",
    "                                                    random_state=1)\n",
    "\n",
    "# Show the Training and Testing Data\n",
    "print('Shape of training feature:', X_train.shape)\n",
    "print('Shape of testing feature:', X_test.shape)\n",
    "print('Shape of training label:', y_train.shape)\n",
    "print('Shape of training label:', y_test.shape)"
   ]
  },
  {
   "cell_type": "code",
   "execution_count": 24,
   "metadata": {},
   "outputs": [
    {
     "name": "stdout",
     "output_type": "stream",
     "text": [
      "Accuracy on training set: 0.985\n",
      "Accuracy on validation set: 0.849\n",
      "F1-score: 0.848624569319135\n",
      "[[9093   46  914]\n",
      " [  45 8790 1255]\n",
      " [ 881 1396 7580]]\n",
      "              precision    recall  f1-score   support\n",
      "\n",
      "           0       0.91      0.90      0.91     10053\n",
      "           1       0.86      0.87      0.87     10090\n",
      "           2       0.78      0.77      0.77      9857\n",
      "\n",
      "    accuracy                           0.85     30000\n",
      "   macro avg       0.85      0.85      0.85     30000\n",
      "weighted avg       0.85      0.85      0.85     30000\n",
      "\n"
     ]
    },
    {
     "data": {
      "image/png": "[encoded data removed]",
      "text/plain": [
       "<Figure size 800x550 with 2 Axes>"
      ]
     },
     "metadata": {},
     "output_type": "display_data"
    },
    {
     "data": {
      "image/png": "[encoded data removed]",
      "text/plain": [
       "<Figure size 700x500 with 2 Axes>"
      ]
     },
     "metadata": {},
     "output_type": "display_data"
    }
   ],
   "source": [
    "from sklearn.ensemble import RandomForestClassifier\n",
    "\n",
    "# Building Random Forest model \n",
    "rf = RandomForestClassifier(random_state=0)\n",
    "rf.fit(X_train, y_train)\n",
    "\n",
    "print(\"Accuracy on training set: {:.3f}\".format(rf.score(X_train, y_train)))\n",
    "\n",
    "print(\"Accuracy on validation set: {:.3f}\".format(rf.score(X_test, y_test)))\n",
    "\n",
    "y_pred_rf = rf.predict(X_test)\n",
    "\n",
    "from sklearn.metrics import confusion_matrix\n",
    "Confmat_rf = confusion_matrix(y_test,y_pred_rf)\n",
    "Confmat_rf = sns.heatmap(Confmat_rf/np.sum(Confmat_rf),annot=True, \n",
    "            fmt='.2%', cmap='Blues')\n",
    "\n",
    "from sklearn.metrics import classification_report,confusion_matrix,f1_score\n",
    "f1_score = f1_score(y_test, y_pred_rf, average='weighted')\n",
    "print(\"F1-score:\", f1_score)\n",
    "print(confusion_matrix(y_test,y_pred_rf))\n",
    "print(classification_report(y_test,y_pred_rf))\n",
    "\n",
    "from sklearn.metrics import plot_confusion_matrix\n",
    "matrix = plot_confusion_matrix(rf,X_test,y_test,cmap=plt.cm.Blues)\n",
    "plt.gcf().set_size_inches(7, 5)"
   ]
  },
  {
   "cell_type": "code",
   "execution_count": 25,
   "metadata": {},
   "outputs": [],
   "source": [
    "df3 = pd.DataFrame({'Prediction': y_pred_rf})\n",
    "df3.to_csv(r'D:\\Masters\\DMML\\Project\\Predictions\\GER RF SKL.csv', index = False)"
   ]
  },
  {
   "cell_type": "code",
   "execution_count": 26,
   "metadata": {},
   "outputs": [
    {
     "name": "stdout",
     "output_type": "stream",
     "text": [
      "[LightGBM] [Warning] feature_fraction is set=0.8, colsample_bytree=1.0 will be ignored. Current value: feature_fraction=0.8\n",
      "[LightGBM] [Warning] bagging_fraction is set=0.8, subsample=1.0 will be ignored. Current value: bagging_fraction=0.8\n",
      "[LightGBM] [Warning] bagging_freq is set=1, subsample_freq=0 will be ignored. Current value: bagging_freq=1\n",
      "Classification Report:\n",
      "              precision    recall  f1-score   support\n",
      "\n",
      "           0       0.88      0.87      0.87     10053\n",
      "           1       0.82      0.86      0.84     10090\n",
      "           2       0.73      0.70      0.72      9857\n",
      "\n",
      "    accuracy                           0.81     30000\n",
      "   macro avg       0.81      0.81      0.81     30000\n",
      "weighted avg       0.81      0.81      0.81     30000\n",
      "\n",
      "F1-score: 0.811012470358832\n",
      "Accuracy: 0.8118\n"
     ]
    }
   ],
   "source": [
    "import lightgbm as lgb\n",
    "\n",
    "# Define the random forest model parameters\n",
    "rf_params = {\n",
    "    'boosting_type':'rf', \n",
    "    'num_leaves':31, \n",
    "    'max_depth':-1,\n",
    "    'n_estimators':100, \n",
    "    'bagging_freq':1, \n",
    "    'bagging_fraction':0.8,\n",
    "    'feature_fraction':0.8, \n",
    "    'random_state':42\n",
    "}\n",
    "\n",
    "# Initialize the random forest model\n",
    "rf = lgb.LGBMClassifier(**rf_params)\n",
    "\n",
    "# Train the random forest model\n",
    "rf.fit(X_train, y_train)\n",
    "\n",
    "# Make predictions on the test set\n",
    "rf_pred = rf.predict(X_test)\n",
    "\n",
    "from sklearn.metrics import classification_report, accuracy_score,f1_score\n",
    "report = classification_report(y_test, rf_pred)\n",
    "f1_score = f1_score(y_test, rf_pred, average='weighted')\n",
    "accuracy = accuracy_score(y_test, rf_pred)\n",
    "print('Classification Report:')\n",
    "print(report)\n",
    "print(\"F1-score:\", f1_score)\n",
    "print('Accuracy:', accuracy)\n"
   ]
  },
  {
   "cell_type": "code",
   "execution_count": 27,
   "metadata": {},
   "outputs": [],
   "source": [
    "df4 = pd.DataFrame({'Prediction': rf_pred})\n",
    "df4.to_csv(r'D:\\Masters\\DMML\\Project\\Predictions\\GER RF LGB.csv', index = False)"
   ]
  },
  {
   "cell_type": "code",
   "execution_count": 28,
   "metadata": {},
   "outputs": [
    {
     "name": "stdout",
     "output_type": "stream",
     "text": [
      "Accuracy on training set: 0.872\n",
      "Accuracy on validation set: 0.818\n",
      "F1-score: 0.817466731357799\n",
      "[[8987   78  988]\n",
      " [ 114 8457 1519]\n",
      " [1258 1499 7100]]\n",
      "              precision    recall  f1-score   support\n",
      "\n",
      "           0       0.87      0.89      0.88     10053\n",
      "           1       0.84      0.84      0.84     10090\n",
      "           2       0.74      0.72      0.73      9857\n",
      "\n",
      "    accuracy                           0.82     30000\n",
      "   macro avg       0.82      0.82      0.82     30000\n",
      "weighted avg       0.82      0.82      0.82     30000\n",
      "\n"
     ]
    },
    {
     "data": {
      "image/png": "[encoded data removed]",
      "text/plain": [
       "<Figure size 800x550 with 2 Axes>"
      ]
     },
     "metadata": {},
     "output_type": "display_data"
    },
    {
     "data": {
      "image/png": "[encoded data removed]",
      "text/plain": [
       "<Figure size 700x500 with 2 Axes>"
      ]
     },
     "metadata": {},
     "output_type": "display_data"
    }
   ],
   "source": [
    "from sklearn.neighbors import KNeighborsClassifier\n",
    "\n",
    "# Building KNN model \n",
    "knn = KNeighborsClassifier()\n",
    "knn.fit(X_train, y_train)\n",
    "\n",
    "print(\"Accuracy on training set: {:.3f}\".format(knn.score(X_train, y_train)))\n",
    "\n",
    "print(\"Accuracy on validation set: {:.3f}\".format(knn.score(X_test, y_test)))\n",
    "\n",
    "y_pred_KNN = knn.predict(X_test)\n",
    "\n",
    "Confmat_KNN = confusion_matrix(y_test,y_pred_KNN)\n",
    "Confmat_KNN = sns.heatmap(Confmat_KNN/np.sum(Confmat_KNN),annot=True, \n",
    "            fmt='.2%', cmap='Blues')\n",
    "\n",
    "from sklearn.metrics import classification_report,confusion_matrix,f1_score\n",
    "f1_score = f1_score(y_test, y_pred_KNN, average='weighted')\n",
    "print(\"F1-score:\", f1_score)\n",
    "print(confusion_matrix(y_test,y_pred_KNN))\n",
    "print(classification_report(y_test,y_pred_KNN))\n",
    "\n",
    "from sklearn.metrics import plot_confusion_matrix\n",
    "matrix = plot_confusion_matrix(knn,X_test,y_test,cmap=plt.cm.Blues)\n",
    "plt.gcf().set_size_inches(7, 5)"
   ]
  },
  {
   "cell_type": "code",
   "execution_count": 29,
   "metadata": {},
   "outputs": [],
   "source": [
    "df5 = pd.DataFrame({'Prediction': y_pred_KNN})\n",
    "df5.to_csv(r'D:\\Masters\\DMML\\Project\\Predictions\\GER KNN SKL.csv', index = False)"
   ]
  },
  {
   "cell_type": "code",
   "execution_count": 30,
   "metadata": {},
   "outputs": [
    {
     "name": "stdout",
     "output_type": "stream",
     "text": [
      "[LightGBM] [Warning] Unknown parameter: n_neighbors\n",
      "Classification Report:\n",
      "              precision    recall  f1-score   support\n",
      "\n",
      "           0       0.91      0.91      0.91     10053\n",
      "           1       0.87      0.88      0.87     10090\n",
      "           2       0.79      0.78      0.78      9857\n",
      "\n",
      "    accuracy                           0.86     30000\n",
      "   macro avg       0.86      0.86      0.86     30000\n",
      "weighted avg       0.86      0.86      0.86     30000\n",
      "\n",
      "F1-score: 0.8557279603117831\n",
      "Accuracy: 0.856\n"
     ]
    }
   ],
   "source": [
    "import lightgbm as lgb\n",
    "\n",
    "# Define the KNN model parameters\n",
    "knn_params = {\n",
    "    'boosting_type': 'gbdt',\n",
    "    'n_neighbors': 5,\n",
    "    'num_leaves': 31,\n",
    "    'n_estimators': 100,\n",
    "    'random_state': 42\n",
    "}\n",
    "\n",
    "# Initialize the KNN model\n",
    "knn = lgb.LGBMClassifier(**knn_params)\n",
    "\n",
    "# Train the KNN model\n",
    "knn.fit(X_train, y_train)\n",
    "\n",
    "# Make predictions on the test set\n",
    "knn_pred = knn.predict(X_test)\n",
    "\n",
    "\n",
    "from sklearn.metrics import classification_report, accuracy_score,f1_score\n",
    "report = classification_report(y_test,knn_pred)\n",
    "accuracy = accuracy_score(y_test, knn_pred)\n",
    "f1_score = f1_score(y_test, knn_pred, average='weighted')\n",
    "print('Classification Report:')\n",
    "print(report)\n",
    "print(\"F1-score:\", f1_score)\n",
    "print('Accuracy:', accuracy)"
   ]
  },
  {
   "cell_type": "code",
   "execution_count": 31,
   "metadata": {},
   "outputs": [],
   "source": [
    "df6 = pd.DataFrame({'Prediction': knn_pred})\n",
    "df6.to_csv(r'D:\\Masters\\DMML\\Project\\Predictions\\GER KNN LGB.csv', index = False)"
   ]
  }
 ],
 "metadata": {
  "kernelspec": {
   "display_name": "Python 3 (ipykernel)",
   "language": "python",
   "name": "python3"
  },
  "language_info": {
   "codemirror_mode": {
    "name": "ipython",
    "version": 3
   },
   "file_extension": ".py",
   "mimetype": "text/x-python",
   "name": "python",
   "nbconvert_exporter": "python",
   "pygments_lexer": "ipython3",
   "version": "3.9.13"
  }
 },
 "nbformat": 4,
 "nbformat_minor": 2
}
